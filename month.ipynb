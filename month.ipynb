{
  "nbformat": 4,
  "nbformat_minor": 0,
  "metadata": {
    "colab": {
      "provenance": [],
      "authorship_tag": "ABX9TyPam+olIF+pIYx3tKk+xVrE"
    },
    "kernelspec": {
      "name": "python3",
      "display_name": "Python 3"
    },
    "language_info": {
      "name": "python"
    }
  },
  "cells": [
    {
      "cell_type": "code",
      "execution_count": 17,
      "metadata": {
        "colab": {
          "base_uri": "https://localhost:8080/"
        },
        "id": "5Ca9xv2ccMcV",
        "outputId": "3cc55110-046d-4fdd-a1f8-4e338668f051"
      },
      "outputs": [
        {
          "output_type": "stream",
          "name": "stdout",
          "text": [
            "enter month8\n",
            "31days\n"
          ]
        }
      ],
      "source": [
        "m=int(input(\"enter month\"));\n",
        "if(m==2):\n",
        " print(\"28days/29days\")\n",
        "elif m in[1,3,5,7,8,10,12]:\n",
        "  print(\"31days\")\n",
        "else:\n",
        "  print(\"30days\")"
      ]
    }
  ]
}