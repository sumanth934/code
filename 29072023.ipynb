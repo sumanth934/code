{
  "nbformat": 4,
  "nbformat_minor": 0,
  "metadata": {
    "colab": {
      "provenance": [],
      "authorship_tag": "ABX9TyM8jjAtSbsJ9wr1bNtv0vsR"
    },
    "kernelspec": {
      "name": "python3",
      "display_name": "Python 3"
    },
    "language_info": {
      "name": "python"
    }
  },
  "cells": [
    {
      "cell_type": "code",
      "execution_count": 2,
      "metadata": {
        "colab": {
          "base_uri": "https://localhost:8080/"
        },
        "id": "FMIAK6rtS3RO",
        "outputId": "bb8153a5-7521-47a5-e052-119053d7f843"
      },
      "outputs": [
        {
          "output_type": "stream",
          "name": "stdout",
          "text": [
            "enter a number7\n",
            "7\n",
            "22\n",
            "11\n",
            "34\n",
            "17\n",
            "52\n",
            "26\n",
            "13\n",
            "40\n",
            "20\n",
            "10\n",
            "5\n",
            "16\n",
            "8\n",
            "4\n",
            "2\n"
          ]
        }
      ],
      "source": [
        "no=int(input(\"enter a number\"))\n",
        "while no!=1:\n",
        "  print(no)\n",
        "  if no%2==0:\n",
        "    no=no//2\n",
        "  else:\n",
        "      no=no*3+1"
      ]
    }
  ]
}