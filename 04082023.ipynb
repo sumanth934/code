{
  "nbformat": 4,
  "nbformat_minor": 0,
  "metadata": {
    "colab": {
      "provenance": [],
      "authorship_tag": "ABX9TyN79GMpmTaPQkBu27j0RaRM"
    },
    "kernelspec": {
      "name": "python3",
      "display_name": "Python 3"
    },
    "language_info": {
      "name": "python"
    }
  },
  "cells": [
    {
      "cell_type": "code",
      "execution_count": 25,
      "metadata": {
        "colab": {
          "base_uri": "https://localhost:8080/"
        },
        "id": "T9BZzgOFvZyN",
        "outputId": "76c2a0da-5cff-47b6-a58b-6fb08334d7b9"
      },
      "outputs": [
        {
          "output_type": "stream",
          "name": "stdout",
          "text": [
            "[1, 2, 4, 8, 0, 0, 0]\n"
          ]
        }
      ],
      "source": [
        "nums=[0,1,2,4,0,8,0]\n",
        "n1=[]\n",
        "n2=[]\n",
        "for i in nums:\n",
        "  if i==0:\n",
        "   n1.append(i)\n",
        "  else:\n",
        "   n2.append(i)\n",
        "print(n2+n1)\n"
      ]
    },
    {
      "cell_type": "code",
      "source": [
        "nums=[0,1,2,4,0,8,0]\n",
        "n1=[]\n",
        "n2=[]\n",
        "for i in nums:\n",
        "  if i==0:\n",
        "   n1.append(i)\n",
        "  else:\n",
        "   n2.append(i)\n",
        "k=int(len(n2)/2)\n",
        "p=n2[:k]\n",
        "p1=n2[k:]\n",
        "print(p+n1+p1)"
      ],
      "metadata": {
        "colab": {
          "base_uri": "https://localhost:8080/"
        },
        "id": "1bXH6jevxSw1",
        "outputId": "5e441deb-9962-4d3a-9a39-c9f9538749a8"
      },
      "execution_count": 26,
      "outputs": [
        {
          "output_type": "stream",
          "name": "stdout",
          "text": [
            "[1, 2, 0, 0, 0, 4, 8]\n"
          ]
        }
      ]
    },
    {
      "cell_type": "code",
      "source": [
        "n=int(input())\n",
        "if n%2==0:\n",
        "  if n>6 and n<=20:\n",
        "     print(\"wired\")\n",
        "  else:\n",
        "    print(\"not wired\")\n",
        "else:\n",
        "  print(\"wired\")"
      ],
      "metadata": {
        "colab": {
          "base_uri": "https://localhost:8080/"
        },
        "id": "qrUzmcn0yY42",
        "outputId": "1fe8ed43-1d12-4e1b-bad8-4c8971662c2f"
      },
      "execution_count": 31,
      "outputs": [
        {
          "output_type": "stream",
          "name": "stdout",
          "text": [
            "4\n",
            "not wired\n"
          ]
        }
      ]
    }
  ]
}